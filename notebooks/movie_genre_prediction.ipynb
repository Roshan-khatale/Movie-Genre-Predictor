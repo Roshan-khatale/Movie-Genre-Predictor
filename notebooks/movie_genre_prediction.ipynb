{
  "cells": [
    {
      "cell_type": "code",
      "execution_count": null,
      "metadata": {},
      "outputs": [],
      "source": [
        "import pandas as pd\n",
        "from sklearn.feature_extraction.text import TfidfVectorizer\n",
        "from sklearn.linear_model import LogisticRegression\n",
        "df = pd.read_csv('../data/movie_plots.csv')\n",
        "X = TfidfVectorizer().fit_transform(df['plot'])\n",
        "y = df['genre']\n",
        "model = LogisticRegression()\n",
        "model.fit(X, y)\n",
        "print(model.predict(X))"
      ]
    }
  ],
  "metadata": {},
  "nbformat": 4,
  "nbformat_minor": 5
}